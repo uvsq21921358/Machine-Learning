{
 "cells": [
  {
   "cell_type": "code",
   "execution_count": 42,
   "metadata": {},
   "outputs": [],
   "source": [
    "import pandas as pd\n",
    "from sklearn.linear_model import LogisticRegression\n",
    "from sklearn import preprocessing, metrics\n",
    "from sklearn import model_selection\n",
    "from sklearn.metrics import confusion_matrix\n",
    "import matplotlib.pyplot as plt"
   ]
  },
  {
   "cell_type": "code",
   "execution_count": 5,
   "metadata": {},
   "outputs": [],
   "source": [
    "df = pd.read_csv('jeu2Donne.csv')#importation du jeu de donnes"
   ]
  },
  {
   "cell_type": "code",
   "execution_count": 6,
   "metadata": {},
   "outputs": [],
   "source": [
    "for column in (\"CAS\",\"SMILES\",\"Set\",\"PCD\",\"X2Av\",\"N-072\",\"logBCF\",\"B02[C-N]\" ):\n",
    "       df.drop([column],axis='columns',inplace=True)"
   ]
  },
  {
   "cell_type": "code",
   "execution_count": 74,
   "metadata": {},
   "outputs": [],
   "source": [
    "X = df[df.columns[:-1]].values\n",
    "Y_class = df['Class'].values\n"
   ]
  },
  {
   "cell_type": "code",
   "execution_count": 75,
   "metadata": {},
   "outputs": [],
   "source": [
    "#Séparons nos données en un jeu d’entraînement et stratification. \n",
    "X_train, X_test, y_train, y_test = \\\n",
    "model_selection.train_test_split(X, Y_class,stratify = Y_class,\n",
    "                                test_size=0.25# 25% des données dans le jeu de test\n",
    "                                )"
   ]
  },
  {
   "cell_type": "code",
   "execution_count": 76,
   "metadata": {},
   "outputs": [
    {
     "name": "stdout",
     "output_type": "stream",
     "text": [
      "[[ 0.1432349  -1.16810134  0.95982782  2.28482859 -0.77936734]\n",
      " [-0.88313546  0.79127132 -0.04325637 -0.27271854 -0.09493046]\n",
      " [-0.88313546 -1.16810134 -0.7571077  -1.06893604 -0.77936734]\n",
      " ...\n",
      " [-0.36995028 -1.16810134 -2.38173486 -1.02068044 -0.77936734]\n",
      " [-0.36995028  1.11151143 -1.08326391 -0.44161316  1.95838019]\n",
      " [-0.88313546 -1.16810134 -2.11096366 -1.35846968 -0.77936734]]\n"
     ]
    },
    {
     "data": {
      "text/plain": [
       "'\\nstd_scale = preprocessing.StandardScaler().fit(X_train)\\nX_train_std = std_scale.transform(X_train)\\nX_test_std = std_scale.transform(std_scale = preprocessing.StandardScaler().fit(X_train)\\nX_train_std = std_scale.transform(X_train)\\nX_test_std = std_scale.transform(X_test)\\nprint(X_test_std)\\nprint(X_train_std)'"
      ]
     },
     "execution_count": 76,
     "metadata": {},
     "output_type": "execute_result"
    }
   ],
   "source": [
    "\"\"\"\"\n",
    "Nous pouvons maintenant standardiser les données d’entraînement\n",
    "et appliquer la même transformation aux données de test l'idée etent d'adapter le modèle aux données\n",
    "\"\"\"\n",
    "from sklearn.preprocessing import StandardScaler\n",
    "# Feature Scaling\n",
    "sc = StandardScaler()\n",
    "X_train = sc.fit_transform(X_train)\n",
    "X_test = sc.transform(X_test)\n",
    "\n",
    "print(X_train)\n",
    "\n",
    "\"\"\"\n",
    "std_scale = preprocessing.StandardScaler().fit(X_train)\n",
    "X_train_std = std_scale.transform(X_train)\n",
    "X_test_std = std_scale.transform(std_scale = preprocessing.StandardScaler().fit(X_train)\n",
    "X_train_std = std_scale.transform(X_train)\n",
    "X_test_std = std_scale.transform(X_test)\n",
    "print(X_test_std)\n",
    "print(X_train_std)\"\"\""
   ]
  },
  {
   "cell_type": "code",
   "execution_count": 77,
   "metadata": {},
   "outputs": [
    {
     "data": {
      "text/plain": [
       "LogisticRegression(random_state=0, solver='liblinear')"
      ]
     },
     "execution_count": 77,
     "metadata": {},
     "output_type": "execute_result"
    }
   ],
   "source": [
    "# Construction du modèle\n",
    "classifier = LogisticRegression(random_state = 0, solver='liblinear')\n",
    "classifier.fit(X_train, y_train)"
   ]
  },
  {
   "cell_type": "code",
   "execution_count": 78,
   "metadata": {},
   "outputs": [
    {
     "name": "stdout",
     "output_type": "stream",
     "text": [
      "[0.67948718 0.69230769 0.5        0.62820513 0.70512821 0.58974359\n",
      " 0.65384615 0.6025641  0.65384615 0.62337662]\n"
     ]
    }
   ],
   "source": [
    "#validation croisé \n",
    "validation = model_selection.cross_val_score(classifier,X,Y_class,cv=10,scoring='accuracy')\n",
    "print(validation)"
   ]
  },
  {
   "cell_type": "code",
   "execution_count": 79,
   "metadata": {},
   "outputs": [
    {
     "data": {
      "text/plain": [
       "0.6153846153846154"
      ]
     },
     "execution_count": 79,
     "metadata": {},
     "output_type": "execute_result"
    }
   ],
   "source": [
    "# Prédire les étiquettes de classe pour les échantillons dans X_test puis afficher la performance\n",
    "y_pred = classifier.predict(X_test)\n",
    "\n",
    "\n",
    "#print(format(metrics.accuracy_score(y_test, y_pred)))\n"
   ]
  },
  {
   "cell_type": "code",
   "execution_count": 80,
   "metadata": {},
   "outputs": [
    {
     "name": "stdout",
     "output_type": "stream",
     "text": [
      "[[97  0 18]\n",
      " [12  0  4]\n",
      " [41  0 23]]\n"
     ]
    }
   ],
   "source": [
    "# Matrice de confusion\n",
    "\n",
    "cm = confusion_matrix(y_test, y_pred)\n",
    "print(cm)\n"
   ]
  },
  {
   "cell_type": "code",
   "execution_count": 84,
   "metadata": {},
   "outputs": [
    {
     "data": {
      "image/png": "[encoded data removed]",
      "text/plain": [
       "<Figure size 432x288 with 2 Axes>"
      ]
     },
     "metadata": {
      "needs_background": "light"
     },
     "output_type": "display_data"
    },
    {
     "data": {
      "text/plain": [
       "0.6153846153846154"
      ]
     },
     "execution_count": 84,
     "metadata": {},
     "output_type": "execute_result"
    }
   ],
   "source": [
    "from sklearn.metrics import plot_confusion_matrix\n",
    "disp = plot_confusion_matrix(classifier, X_test, y_test,\n",
    "                                 display_labels=[1,2,3],\n",
    "                                 cmap=plt.cm.Blues)\n",
    "plt.show()\n",
    "classifier.score(X_test,y_test)"
   ]
  },
  {
   "cell_type": "code",
   "execution_count": null,
   "metadata": {},
   "outputs": [],
   "source": []
  }
 ],
 "metadata": {
  "kernelspec": {
   "display_name": "Python 3",
   "language": "python",
   "name": "python3"
  },
  "language_info": {
   "codemirror_mode": {
    "name": "ipython",
    "version": 3
   },
   "file_extension": ".py",
   "mimetype": "text/x-python",
   "name": "python",
   "nbconvert_exporter": "python",
   "pygments_lexer": "ipython3",
   "version": "3.8.6"
  }
 },
 "nbformat": 4,
 "nbformat_minor": 4
}
